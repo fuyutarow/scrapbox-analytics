{
 "cells": [
  {
   "cell_type": "code",
   "execution_count": 1,
   "metadata": {},
   "outputs": [
    {
     "name": "stdout",
     "output_type": "stream",
     "text": [
      "plot_pages.ipynb       scrapbox.sairilab.tar\r\n"
     ]
    }
   ],
   "source": [
    "ls"
   ]
  },
  {
   "cell_type": "code",
   "execution_count": 2,
   "metadata": {},
   "outputs": [
    {
     "name": "stdout",
     "output_type": "stream",
     "text": [
      "x scrapbox.sairilab/\n",
      "x scrapbox.sairilab/sairilab_20190925_034344.json\n",
      "x scrapbox.sairilab/sairilab_20190925_203008.json\n",
      "x scrapbox.sairilab/sairilab_20190926_142541.json\n",
      "x scrapbox.sairilab/sairilab_20190927_141149.json\n",
      "x scrapbox.sairilab/sairilab_20190928_081057.json\n",
      "x scrapbox.sairilab/sairilab_20190929_020859.json\n",
      "x scrapbox.sairilab/sairilab_20190929_201730.json\n",
      "x scrapbox.sairilab/sairilab_20190930_203113.json\n",
      "x scrapbox.sairilab/sairilab_20191001_142316.json\n",
      "x scrapbox.sairilab/sairilab_20191002_200841.json\n",
      "x scrapbox.sairilab/sairilab_20191003_142609.json\n",
      "x scrapbox.sairilab/sairilab_20191004_081636.json\n",
      "x scrapbox.sairilab/sairilab_20191005_023840.json\n",
      "x scrapbox.sairilab/sairilab_20191005_201638.json\n",
      "x scrapbox.sairilab/sairilab_20191006_145157.json\n",
      "x scrapbox.sairilab/sairilab_20191007_084139.json\n",
      "x scrapbox.sairilab/sairilab_20191008_030027.json\n",
      "x scrapbox.sairilab/sairilab_20191009_025936.json\n",
      "x scrapbox.sairilab/sairilab_20191010_025108.json\n",
      "x scrapbox.sairilab/sairilab_20191010_204202.json\n",
      "x scrapbox.sairilab/sairilab_20191011_150851.json\n",
      "x scrapbox.sairilab/sairilab_20191012_084207.json\n",
      "x scrapbox.sairilab/sairilab_20191013_023704.json\n",
      "x scrapbox.sairilab/sairilab_20191013_203641.json\n",
      "x scrapbox.sairilab/sairilab_20191014_144117.json\n",
      "x scrapbox.sairilab/sairilab_20191015_085726.json\n",
      "x scrapbox.sairilab/sairilab_20191016_083136.json\n",
      "x scrapbox.sairilab/sairilab_20191017_141909.json\n",
      "x scrapbox.sairilab/sairilab_20191018_145151.json\n",
      "x scrapbox.sairilab/sairilab_20191019_141554.json\n",
      "x scrapbox.sairilab/sairilab_20191020_081312.json\n",
      "x scrapbox.sairilab/sairilab_20191021_030857.json\n",
      "x scrapbox.sairilab/sairilab_20191021_202520.json\n",
      "x scrapbox.sairilab/sairilab_20191022_142304.json\n",
      "x scrapbox.sairilab/sairilab_20191023_082902.json\n",
      "x scrapbox.sairilab/sairilab_20191024_022808.json\n",
      "x scrapbox.sairilab/sairilab_20191025_022149.json\n",
      "x scrapbox.sairilab/sairilab_20191025_201910.json\n",
      "x scrapbox.sairilab/sairilab_20191026_144649.json\n",
      "x scrapbox.sairilab/sairilab_20191027_083454.json\n",
      "x scrapbox.sairilab/sairilab_20191028_024511.json\n",
      "x scrapbox.sairilab/sairilab_20191029_143325.json\n",
      "x scrapbox.sairilab/sairilab_20191030_084634.json\n",
      "x scrapbox.sairilab/sairilab_20191031_033832.json\n"
     ]
    }
   ],
   "source": [
    "!tar xvf scrapbox.sairilab.tar"
   ]
  },
  {
   "cell_type": "code",
   "execution_count": 3,
   "metadata": {},
   "outputs": [
    {
     "name": "stdout",
     "output_type": "stream",
     "text": [
      "Requirement already satisfied: matplotlib in /Users/fuyutarow/.pyenv/versions/3.7.3/lib/python3.7/site-packages (3.1.1)\n",
      "Requirement already satisfied: pandas in /Users/fuyutarow/.pyenv/versions/3.7.3/lib/python3.7/site-packages (0.25.1)\n",
      "Requirement already satisfied: maya in /Users/fuyutarow/.pyenv/versions/3.7.3/lib/python3.7/site-packages (0.6.1)\n",
      "Requirement already satisfied: numpy>=1.11 in /Users/fuyutarow/.pyenv/versions/3.7.3/lib/python3.7/site-packages (from matplotlib) (1.17.2)\n",
      "Requirement already satisfied: cycler>=0.10 in /Users/fuyutarow/.pyenv/versions/3.7.3/lib/python3.7/site-packages (from matplotlib) (0.10.0)\n",
      "Requirement already satisfied: pyparsing!=2.0.4,!=2.1.2,!=2.1.6,>=2.0.1 in /Users/fuyutarow/.pyenv/versions/3.7.3/lib/python3.7/site-packages (from matplotlib) (2.4.2)\n",
      "Requirement already satisfied: kiwisolver>=1.0.1 in /Users/fuyutarow/.pyenv/versions/3.7.3/lib/python3.7/site-packages (from matplotlib) (1.1.0)\n",
      "Requirement already satisfied: python-dateutil>=2.1 in /Users/fuyutarow/.pyenv/versions/3.7.3/lib/python3.7/site-packages (from matplotlib) (2.8.0)\n",
      "Requirement already satisfied: pytz>=2017.2 in /Users/fuyutarow/.pyenv/versions/3.7.3/lib/python3.7/site-packages (from pandas) (2019.2)\n",
      "Requirement already satisfied: dateparser>=0.7.0 in /Users/fuyutarow/.pyenv/versions/3.7.3/lib/python3.7/site-packages (from maya) (0.7.2)\n",
      "Requirement already satisfied: pendulum>=2.0.2 in /Users/fuyutarow/.pyenv/versions/3.7.3/lib/python3.7/site-packages (from maya) (2.0.5)\n",
      "Requirement already satisfied: humanize in /Users/fuyutarow/.pyenv/versions/3.7.3/lib/python3.7/site-packages (from maya) (0.5.1)\n",
      "Requirement already satisfied: tzlocal in /Users/fuyutarow/.pyenv/versions/3.7.3/lib/python3.7/site-packages (from maya) (2.0.0)\n",
      "Requirement already satisfied: snaptime in /Users/fuyutarow/.pyenv/versions/3.7.3/lib/python3.7/site-packages (from maya) (0.2.4)\n",
      "Requirement already satisfied: six in /Users/fuyutarow/.pyenv/versions/3.7.3/lib/python3.7/site-packages (from cycler>=0.10->matplotlib) (1.12.0)\n",
      "Requirement already satisfied: setuptools in /Users/fuyutarow/.pyenv/versions/3.7.3/lib/python3.7/site-packages (from kiwisolver>=1.0.1->matplotlib) (41.2.0)\n",
      "Requirement already satisfied: regex in /Users/fuyutarow/.pyenv/versions/3.7.3/lib/python3.7/site-packages (from dateparser>=0.7.0->maya) (2019.11.1)\n",
      "Requirement already satisfied: pytzdata>=2018.3 in /Users/fuyutarow/.pyenv/versions/3.7.3/lib/python3.7/site-packages (from pendulum>=2.0.2->maya) (2019.3)\n",
      "\u001b[33mWARNING: You are using pip version 19.2.3, however version 19.3.1 is available.\n",
      "You should consider upgrading via the 'pip install --upgrade pip' command.\u001b[0m\n",
      "Note: you may need to restart the kernel to use updated packages.\n"
     ]
    }
   ],
   "source": [
    "pip install matplotlib pandas maya"
   ]
  },
  {
   "cell_type": "code",
   "execution_count": 4,
   "metadata": {},
   "outputs": [],
   "source": [
    "import json\n",
    "from pathlib import Path"
   ]
  },
  {
   "cell_type": "code",
   "execution_count": 5,
   "metadata": {},
   "outputs": [],
   "source": [
    "json_iter = Path(\"scrapbox.sairilab\").glob(\"*.json\")"
   ]
  },
  {
   "cell_type": "code",
   "execution_count": 6,
   "metadata": {},
   "outputs": [],
   "source": [
    "import maya \n",
    "\n",
    "def json2doc(fpath):\n",
    "    with fpath.open() as f:\n",
    "        doc = json.load(f)\n",
    "    return {\n",
    "        \"exported\": maya.when(str(doc[\"exported\"])).iso8601(),\n",
    "        \"pages\": len(doc[\"pages\"])\n",
    "    }"
   ]
  },
  {
   "cell_type": "code",
   "execution_count": 7,
   "metadata": {},
   "outputs": [],
   "source": [
    "json_iter = Path(\"scrapbox.sairilab\").glob(\"*.json\")\n",
    "docs = [json2doc(f) for f in json_iter]"
   ]
  },
  {
   "cell_type": "code",
   "execution_count": 8,
   "metadata": {},
   "outputs": [],
   "source": [
    "import pandas as pd"
   ]
  },
  {
   "cell_type": "code",
   "execution_count": 9,
   "metadata": {},
   "outputs": [],
   "source": [
    "df = pd.DataFrame(docs)\n",
    "df = df.set_index(\"exported\")\n",
    "df.index = pd.to_datetime(df.index)"
   ]
  },
  {
   "cell_type": "code",
   "execution_count": 12,
   "metadata": {},
   "outputs": [
    {
     "data": {
      "text/plain": [
       "<matplotlib.axes._subplots.AxesSubplot at 0x11a7c9470>"
      ]
     },
     "execution_count": 12,
     "metadata": {},
     "output_type": "execute_result"
    },
    {
     "data": {
      "image/png": "[encoded data removed]",
      "text/plain": [
       "<Figure size 432x288 with 1 Axes>"
      ]
     },
     "metadata": {
      "needs_background": "light"
     },
     "output_type": "display_data"
    }
   ],
   "source": [
    "df.plot()"
   ]
  },
  {
   "cell_type": "code",
   "execution_count": 15,
   "metadata": {},
   "outputs": [
    {
     "data": {
      "text/html": [
       "<div>\n",
       "<style scoped>\n",
       "    .dataframe tbody tr th:only-of-type {\n",
       "        vertical-align: middle;\n",
       "    }\n",
       "\n",
       "    .dataframe tbody tr th {\n",
       "        vertical-align: top;\n",
       "    }\n",
       "\n",
       "    .dataframe thead th {\n",
       "        text-align: right;\n",
       "    }\n",
       "</style>\n",
       "<table border=\"1\" class=\"dataframe\">\n",
       "  <thead>\n",
       "    <tr style=\"text-align: right;\">\n",
       "      <th></th>\n",
       "      <th>pages</th>\n",
       "    </tr>\n",
       "    <tr>\n",
       "      <th>exported</th>\n",
       "      <th></th>\n",
       "    </tr>\n",
       "  </thead>\n",
       "  <tbody>\n",
       "    <tr>\n",
       "      <td>2019-09-25 03:43:44+00:00</td>\n",
       "      <td>100</td>\n",
       "    </tr>\n",
       "    <tr>\n",
       "      <td>2019-09-25 20:30:08+00:00</td>\n",
       "      <td>100</td>\n",
       "    </tr>\n",
       "    <tr>\n",
       "      <td>2019-09-26 14:25:41+00:00</td>\n",
       "      <td>132</td>\n",
       "    </tr>\n",
       "    <tr>\n",
       "      <td>2019-09-27 14:11:49+00:00</td>\n",
       "      <td>155</td>\n",
       "    </tr>\n",
       "    <tr>\n",
       "      <td>2019-09-28 08:10:57+00:00</td>\n",
       "      <td>177</td>\n",
       "    </tr>\n",
       "    <tr>\n",
       "      <td>2019-09-29 02:08:59+00:00</td>\n",
       "      <td>191</td>\n",
       "    </tr>\n",
       "    <tr>\n",
       "      <td>2019-09-29 20:17:30+00:00</td>\n",
       "      <td>202</td>\n",
       "    </tr>\n",
       "    <tr>\n",
       "      <td>2019-09-30 20:31:13+00:00</td>\n",
       "      <td>218</td>\n",
       "    </tr>\n",
       "    <tr>\n",
       "      <td>2019-10-01 14:23:16+00:00</td>\n",
       "      <td>247</td>\n",
       "    </tr>\n",
       "    <tr>\n",
       "      <td>2019-10-02 20:08:41+00:00</td>\n",
       "      <td>259</td>\n",
       "    </tr>\n",
       "    <tr>\n",
       "      <td>2019-10-03 14:26:09+00:00</td>\n",
       "      <td>262</td>\n",
       "    </tr>\n",
       "    <tr>\n",
       "      <td>2019-10-04 08:16:36+00:00</td>\n",
       "      <td>265</td>\n",
       "    </tr>\n",
       "    <tr>\n",
       "      <td>2019-10-05 02:38:40+00:00</td>\n",
       "      <td>265</td>\n",
       "    </tr>\n",
       "    <tr>\n",
       "      <td>2019-10-05 20:16:38+00:00</td>\n",
       "      <td>268</td>\n",
       "    </tr>\n",
       "    <tr>\n",
       "      <td>2019-10-06 14:51:57+00:00</td>\n",
       "      <td>300</td>\n",
       "    </tr>\n",
       "    <tr>\n",
       "      <td>2019-10-07 08:41:39+00:00</td>\n",
       "      <td>312</td>\n",
       "    </tr>\n",
       "    <tr>\n",
       "      <td>2019-10-08 03:00:27+00:00</td>\n",
       "      <td>328</td>\n",
       "    </tr>\n",
       "    <tr>\n",
       "      <td>2019-10-09 02:59:36+00:00</td>\n",
       "      <td>333</td>\n",
       "    </tr>\n",
       "    <tr>\n",
       "      <td>2019-10-10 02:51:08+00:00</td>\n",
       "      <td>339</td>\n",
       "    </tr>\n",
       "    <tr>\n",
       "      <td>2019-10-10 20:42:02+00:00</td>\n",
       "      <td>344</td>\n",
       "    </tr>\n",
       "    <tr>\n",
       "      <td>2019-10-11 15:08:51+00:00</td>\n",
       "      <td>347</td>\n",
       "    </tr>\n",
       "    <tr>\n",
       "      <td>2019-10-12 08:42:07+00:00</td>\n",
       "      <td>348</td>\n",
       "    </tr>\n",
       "    <tr>\n",
       "      <td>2019-10-13 02:37:04+00:00</td>\n",
       "      <td>354</td>\n",
       "    </tr>\n",
       "    <tr>\n",
       "      <td>2019-10-13 20:36:41+00:00</td>\n",
       "      <td>356</td>\n",
       "    </tr>\n",
       "    <tr>\n",
       "      <td>2019-10-14 14:41:17+00:00</td>\n",
       "      <td>359</td>\n",
       "    </tr>\n",
       "    <tr>\n",
       "      <td>2019-10-15 08:57:26+00:00</td>\n",
       "      <td>367</td>\n",
       "    </tr>\n",
       "    <tr>\n",
       "      <td>2019-10-16 08:31:36+00:00</td>\n",
       "      <td>368</td>\n",
       "    </tr>\n",
       "    <tr>\n",
       "      <td>2019-10-17 14:19:09+00:00</td>\n",
       "      <td>371</td>\n",
       "    </tr>\n",
       "    <tr>\n",
       "      <td>2019-10-18 14:51:51+00:00</td>\n",
       "      <td>380</td>\n",
       "    </tr>\n",
       "    <tr>\n",
       "      <td>2019-10-19 14:15:54+00:00</td>\n",
       "      <td>388</td>\n",
       "    </tr>\n",
       "    <tr>\n",
       "      <td>2019-10-20 08:13:12+00:00</td>\n",
       "      <td>389</td>\n",
       "    </tr>\n",
       "    <tr>\n",
       "      <td>2019-10-21 03:08:57+00:00</td>\n",
       "      <td>388</td>\n",
       "    </tr>\n",
       "    <tr>\n",
       "      <td>2019-10-21 20:25:20+00:00</td>\n",
       "      <td>388</td>\n",
       "    </tr>\n",
       "    <tr>\n",
       "      <td>2019-10-22 14:23:04+00:00</td>\n",
       "      <td>390</td>\n",
       "    </tr>\n",
       "    <tr>\n",
       "      <td>2019-10-23 08:29:02+00:00</td>\n",
       "      <td>391</td>\n",
       "    </tr>\n",
       "    <tr>\n",
       "      <td>2019-10-24 02:28:08+00:00</td>\n",
       "      <td>398</td>\n",
       "    </tr>\n",
       "    <tr>\n",
       "      <td>2019-10-25 02:21:49+00:00</td>\n",
       "      <td>416</td>\n",
       "    </tr>\n",
       "    <tr>\n",
       "      <td>2019-10-25 20:19:10+00:00</td>\n",
       "      <td>422</td>\n",
       "    </tr>\n",
       "    <tr>\n",
       "      <td>2019-10-26 14:46:49+00:00</td>\n",
       "      <td>423</td>\n",
       "    </tr>\n",
       "    <tr>\n",
       "      <td>2019-10-27 08:34:54+00:00</td>\n",
       "      <td>449</td>\n",
       "    </tr>\n",
       "    <tr>\n",
       "      <td>2019-10-28 02:45:11+00:00</td>\n",
       "      <td>454</td>\n",
       "    </tr>\n",
       "    <tr>\n",
       "      <td>2019-10-29 14:33:25+00:00</td>\n",
       "      <td>460</td>\n",
       "    </tr>\n",
       "    <tr>\n",
       "      <td>2019-10-30 08:46:34+00:00</td>\n",
       "      <td>494</td>\n",
       "    </tr>\n",
       "    <tr>\n",
       "      <td>2019-10-31 03:38:32+00:00</td>\n",
       "      <td>500</td>\n",
       "    </tr>\n",
       "  </tbody>\n",
       "</table>\n",
       "</div>"
      ],
      "text/plain": [
       "                           pages\n",
       "exported                        \n",
       "2019-09-25 03:43:44+00:00    100\n",
       "2019-09-25 20:30:08+00:00    100\n",
       "2019-09-26 14:25:41+00:00    132\n",
       "2019-09-27 14:11:49+00:00    155\n",
       "2019-09-28 08:10:57+00:00    177\n",
       "2019-09-29 02:08:59+00:00    191\n",
       "2019-09-29 20:17:30+00:00    202\n",
       "2019-09-30 20:31:13+00:00    218\n",
       "2019-10-01 14:23:16+00:00    247\n",
       "2019-10-02 20:08:41+00:00    259\n",
       "2019-10-03 14:26:09+00:00    262\n",
       "2019-10-04 08:16:36+00:00    265\n",
       "2019-10-05 02:38:40+00:00    265\n",
       "2019-10-05 20:16:38+00:00    268\n",
       "2019-10-06 14:51:57+00:00    300\n",
       "2019-10-07 08:41:39+00:00    312\n",
       "2019-10-08 03:00:27+00:00    328\n",
       "2019-10-09 02:59:36+00:00    333\n",
       "2019-10-10 02:51:08+00:00    339\n",
       "2019-10-10 20:42:02+00:00    344\n",
       "2019-10-11 15:08:51+00:00    347\n",
       "2019-10-12 08:42:07+00:00    348\n",
       "2019-10-13 02:37:04+00:00    354\n",
       "2019-10-13 20:36:41+00:00    356\n",
       "2019-10-14 14:41:17+00:00    359\n",
       "2019-10-15 08:57:26+00:00    367\n",
       "2019-10-16 08:31:36+00:00    368\n",
       "2019-10-17 14:19:09+00:00    371\n",
       "2019-10-18 14:51:51+00:00    380\n",
       "2019-10-19 14:15:54+00:00    388\n",
       "2019-10-20 08:13:12+00:00    389\n",
       "2019-10-21 03:08:57+00:00    388\n",
       "2019-10-21 20:25:20+00:00    388\n",
       "2019-10-22 14:23:04+00:00    390\n",
       "2019-10-23 08:29:02+00:00    391\n",
       "2019-10-24 02:28:08+00:00    398\n",
       "2019-10-25 02:21:49+00:00    416\n",
       "2019-10-25 20:19:10+00:00    422\n",
       "2019-10-26 14:46:49+00:00    423\n",
       "2019-10-27 08:34:54+00:00    449\n",
       "2019-10-28 02:45:11+00:00    454\n",
       "2019-10-29 14:33:25+00:00    460\n",
       "2019-10-30 08:46:34+00:00    494\n",
       "2019-10-31 03:38:32+00:00    500"
      ]
     },
     "execution_count": 15,
     "metadata": {},
     "output_type": "execute_result"
    }
   ],
   "source": [
    "df.sort_index()"
   ]
  },
  {
   "cell_type": "code",
   "execution_count": null,
   "metadata": {},
   "outputs": [],
   "source": []
  }
 ],
 "metadata": {
  "kernelspec": {
   "display_name": "Python 3",
   "language": "python",
   "name": "python3"
  },
  "language_info": {
   "codemirror_mode": {
    "name": "ipython",
    "version": 3
   },
   "file_extension": ".py",
   "mimetype": "text/x-python",
   "name": "python",
   "nbconvert_exporter": "python",
   "pygments_lexer": "ipython3",
   "version": "3.7.3"
  }
 },
 "nbformat": 4,
 "nbformat_minor": 2
}
